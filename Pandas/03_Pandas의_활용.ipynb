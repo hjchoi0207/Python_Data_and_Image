{
  "nbformat": 4,
  "nbformat_minor": 0,
  "metadata": {
    "colab": {
      "name": "03. Pandas의 활용",
      "provenance": [],
      "collapsed_sections": [],
      "include_colab_link": true
    },
    "kernelspec": {
      "name": "python3",
      "display_name": "Python 3"
    }
  },
  "cells": [
    {
      "cell_type": "markdown",
      "metadata": {
        "id": "view-in-github",
        "colab_type": "text"
      },
      "source": [
        "<a href=\"https://colab.research.google.com/github/hjchoi0207/Python_Data_and_Image/blob/master/03_Pandas%EC%9D%98_%ED%99%9C%EC%9A%A9.ipynb\" target=\"_parent\"><img src=\"https://colab.research.google.com/assets/colab-badge.svg\" alt=\"Open In Colab\"/></a>"
      ]
    },
    {
      "cell_type": "markdown",
      "metadata": {
        "id": "Siz51OxuV4d8"
      },
      "source": [
        "## Pandas의 활용\n"
      ]
    },
    {
      "cell_type": "markdown",
      "metadata": {
        "id": "6mWQWOcSTTJp"
      },
      "source": [
        "# **강의내용 정리**\n",
        "\n",
        "* 마스킹   \n",
        "조건에 만족하는 요소 출력   \n",
        "* 개별연산\n",
        " - apply(식 or 함수)\n",
        " - replace({기존요소 : 변경할 요소})\n",
        "\n",
        "* 그룹화\n",
        " - groupby(['컬럼']).sum()\n",
        " - groupby(['컬럼']).aggregate([min, sum, max ...]) \n",
        " - groupby('컬럼').filter(my_filter) # 조건에 만족하지 못한 열 필터링\n",
        " - groupby('컬럼').get_group(\"요소\")  #요소가 속한 열만 출력\n",
        " - ['새컬럼'] = groupby('컬럼1')['컬럼2'].apply(lambda x : x - x.mean())\n",
        "\n",
        "* 다중화   \n",
        "원하는 요소를 잘라 출력\n",
        "* 피벗 테이블   \n",
        "기존 데이터 프레임 변형\n"
      ]
    },
    {
      "cell_type": "markdown",
      "metadata": {
        "id": "a6yNz5AwV9xy"
      },
      "source": [
        "**데이터 프레임의 마스킹**"
      ]
    },
    {
      "cell_type": "code",
      "metadata": {
        "id": "JmS4kFl4V4vq",
        "outputId": "6836614d-6332-4558-8521-89fcb81995b0",
        "colab": {
          "base_uri": "https://localhost:8080/",
          "height": 161
        }
      },
      "source": [
        "import numpy as np\n",
        "import pandas as pd\n",
        "\n",
        "df = pd.DataFrame(np.random.randint(1, 10, (2, 2)), index=[0, 1], columns=[\"A\", \"B\"])\n",
        "# 데이터 프레임 출력하기\n",
        "print(df)\n",
        "# 컬럼 A의 각 원소가 5보다 작거나 같은지 출력\n",
        "print(df[\"A\"] <= 5)\n",
        "# 컬럼 A의 원소가 5보다 작고, 컬럼 B의 원소가 8보다 작은 행 추출\n",
        "print(df.query(\"A <= 5 and B <= 8\"))"
      ],
      "execution_count": null,
      "outputs": [
        {
          "output_type": "stream",
          "text": [
            "   A  B\n",
            "0  6  2\n",
            "1  2  3\n",
            "0    False\n",
            "1     True\n",
            "Name: A, dtype: bool\n",
            "   A  B\n",
            "1  2  3\n"
          ],
          "name": "stdout"
        }
      ]
    },
    {
      "cell_type": "markdown",
      "metadata": {
        "id": "AzDJfh-GaFMM"
      },
      "source": [
        "**데이터 프레임의 개별 연산 ①**"
      ]
    },
    {
      "cell_type": "code",
      "metadata": {
        "id": "F84X4ZN5aFTj",
        "outputId": "b982db95-7468-4275-a0a1-21d212ae3693",
        "colab": {
          "base_uri": "https://localhost:8080/",
          "height": 215
        }
      },
      "source": [
        "import pandas as pd\n",
        "\n",
        "df = pd.DataFrame([[1, 2, 3, 4], [1, 2, 3, 4]], index=[0, 1], columns=[\"A\", \"B\", \"C\", \"D\"])\n",
        "print(df)\n",
        "print()\n",
        "\n",
        "df = df.apply(lambda x: x + 1)\n",
        "print(df)\n",
        "print()\n",
        "\n",
        "def addOne(x):\n",
        "  return x + 1\n",
        "  \n",
        "df = df.apply(addOne)\n",
        "print(df)"
      ],
      "execution_count": null,
      "outputs": [
        {
          "output_type": "stream",
          "text": [
            "   A  B  C  D\n",
            "0  1  2  3  4\n",
            "1  1  2  3  4\n",
            "\n",
            "   A  B  C  D\n",
            "0  2  3  4  5\n",
            "1  2  3  4  5\n",
            "\n",
            "   A  B  C  D\n",
            "0  3  4  5  6\n",
            "1  3  4  5  6\n"
          ],
          "name": "stdout"
        }
      ]
    },
    {
      "cell_type": "markdown",
      "metadata": {
        "id": "tUnEKp3rWISR"
      },
      "source": [
        "**데이터 프레임의 개별 연산 ②**"
      ]
    },
    {
      "cell_type": "code",
      "metadata": {
        "id": "5rU-cJcMWHHW",
        "outputId": "d7f61991-6f85-4cb4-b794-b0102ad15e16",
        "colab": {
          "base_uri": "https://localhost:8080/",
          "height": 143
        }
      },
      "source": [
        "import pandas as pd\n",
        "\n",
        "df = pd.DataFrame([\n",
        "  ['Apple', 'Apple', 'Carrot', 'Banana'],\n",
        "  ['Durian', 'Banana', 'Apple', 'Carrot']],\n",
        "  index=[0, 1],\n",
        "  columns=[\"A\", \"B\", \"C\", \"D\"])\n",
        "\n",
        "print(df)\n",
        "print()\n",
        "\n",
        "df = df.replace({\"Apple\": \"Airport\"}) # 모든 Apple -> Airport\n",
        "print(df)"
      ],
      "execution_count": null,
      "outputs": [
        {
          "output_type": "stream",
          "text": [
            "        A       B       C       D\n",
            "0   Apple   Apple  Carrot  Banana\n",
            "1  Durian  Banana   Apple  Carrot\n",
            "\n",
            "         A        B        C       D\n",
            "0  Airport  Airport   Carrot  Banana\n",
            "1   Durian   Banana  Airport  Carrot\n"
          ],
          "name": "stdout"
        }
      ]
    },
    {
      "cell_type": "markdown",
      "metadata": {
        "id": "Si54bY9DWiCL"
      },
      "source": [
        "**데이터 프레임의 그룹화 ①**"
      ]
    },
    {
      "cell_type": "code",
      "metadata": {
        "id": "X_5G6gbRWabq",
        "outputId": "664b0554-0756-4d17-9401-3d4c3980e4b4",
        "colab": {
          "base_uri": "https://localhost:8080/",
          "height": 197
        }
      },
      "source": [
        "import pandas as pd\n",
        "\n",
        "df = pd.DataFrame([\n",
        "  ['Apple', 7, 'Fruit'],\n",
        "  ['Banana', 3, 'Fruit'],\n",
        "  ['Beef', 5, 'Meal'],\n",
        "  ['Kimchi', 4, 'Meal']],\n",
        "  index = [0,1,2,3],\n",
        "  columns=[\"Name\", \"Frequency\", \"Type\"])\n",
        "\n",
        "print(df)\n",
        "print()\n",
        "print(df.groupby(['Type']).sum()) # Type들을 그룹화 하여 합을 구한다."
      ],
      "execution_count": 3,
      "outputs": [
        {
          "output_type": "stream",
          "text": [
            "     Name  Frequency   Type\n",
            "0   Apple          7  Fruit\n",
            "1  Banana          3  Fruit\n",
            "2    Beef          5   Meal\n",
            "3  Kimchi          4   Meal\n",
            "\n",
            "       Frequency\n",
            "Type            \n",
            "Fruit         10\n",
            "Meal           9\n"
          ],
          "name": "stdout"
        }
      ]
    },
    {
      "cell_type": "markdown",
      "metadata": {
        "id": "e05shubVXAFi"
      },
      "source": [
        "**데이터 프레임의 그룹화 ②**"
      ]
    },
    {
      "cell_type": "code",
      "metadata": {
        "id": "tK8xeFvFWrh5",
        "outputId": "1dd400cc-79c5-4db4-af41-f2b8f61b63d8",
        "colab": {
          "base_uri": "https://localhost:8080/",
          "height": 215
        }
      },
      "source": [
        "import numpy as np\n",
        "import pandas as pd\n",
        "\n",
        "df = pd.DataFrame([\n",
        "  ['Apple', 7, 5, 'Fruit'],\n",
        "  ['Banana', 3, 6, 'Fruit'],\n",
        "  ['Beef', 5, 2, 'Meal'],\n",
        "  ['Kimchi', 4, 8, 'Meal']],\n",
        "  columns=[\"Name\", \"Frequency\", \"Importance\", \"Type\"])\n",
        "\n",
        "print(df)\n",
        "print()\n",
        "print(df.groupby([\"Type\"]).aggregate([min, max, np.average])) # 다수의 groupby 연산"
      ],
      "execution_count": 4,
      "outputs": [
        {
          "output_type": "stream",
          "text": [
            "     Name  Frequency  Importance   Type\n",
            "0   Apple          7           5  Fruit\n",
            "1  Banana          3           6  Fruit\n",
            "2    Beef          5           2   Meal\n",
            "3  Kimchi          4           8   Meal\n",
            "\n",
            "      Frequency             Importance            \n",
            "            min max average        min max average\n",
            "Type                                              \n",
            "Fruit         3   7     5.0          5   6     5.5\n",
            "Meal          4   5     4.5          2   8     5.0\n"
          ],
          "name": "stdout"
        }
      ]
    },
    {
      "cell_type": "markdown",
      "metadata": {
        "id": "KM1IGVLkXfeT"
      },
      "source": [
        "**데이터 프레임의 그룹화 ③**"
      ]
    },
    {
      "cell_type": "code",
      "metadata": {
        "id": "-X9CQdRtXKbi",
        "outputId": "1e0a7b56-24ad-4ec1-f6c0-4928f8d99e85",
        "colab": {
          "base_uri": "https://localhost:8080/",
          "height": 179
        }
      },
      "source": [
        "import pandas as pd\n",
        "\n",
        "df = pd.DataFrame([\n",
        "  ['Apple', 7, 5, 'Fruit'],\n",
        "  ['Banana', 3, 6, 'Fruit'],\n",
        "  ['Beef', 5, 2, 'Meal'],\n",
        "  ['Kimchi', 4, 8, 'Meal']],\n",
        "  columns=[\"Name\", \"Frequency\", \"Importance\", \"Type\"])\n",
        "\n",
        "\n",
        "def my_filter(data):\n",
        "  return data[\"Frequency\"].mean() >= 5\n",
        "\n",
        "\n",
        "print(df)\n",
        "print()\n",
        "df = df.groupby(\"Type\").filter(my_filter) # Fruit 의 평균이 5 이상\n",
        "print(df)"
      ],
      "execution_count": 5,
      "outputs": [
        {
          "output_type": "stream",
          "text": [
            "     Name  Frequency  Importance   Type\n",
            "0   Apple          7           5  Fruit\n",
            "1  Banana          3           6  Fruit\n",
            "2    Beef          5           2   Meal\n",
            "3  Kimchi          4           8   Meal\n",
            "\n",
            "     Name  Frequency  Importance   Type\n",
            "0   Apple          7           5  Fruit\n",
            "1  Banana          3           6  Fruit\n"
          ],
          "name": "stdout"
        }
      ]
    },
    {
      "cell_type": "markdown",
      "metadata": {
        "id": "u7MF95UNYLXK"
      },
      "source": [
        "**데이터 프레임의 그룹화 ④**"
      ]
    },
    {
      "cell_type": "code",
      "metadata": {
        "id": "CoBR2GKrXv2f",
        "outputId": "e253768d-70ea-4422-bfd6-d4f8dd8647e8",
        "colab": {
          "base_uri": "https://localhost:8080/",
          "height": 179
        }
      },
      "source": [
        "import pandas as pd\n",
        "\n",
        "df = pd.DataFrame([\n",
        "  ['Apple', 7, 5, 'Fruit'],\n",
        "  ['Banana', 3, 6, 'Fruit'],\n",
        "  ['Beef', 5, 2, 'Meal'],\n",
        "  ['Kimchi', 4, 8, 'Meal']],\n",
        "  columns=[\"Name\", \"Frequency\", \"Importance\", \"Type\"])\n",
        "\n",
        "print(df)\n",
        "print()\n",
        "\n",
        "df = df.groupby(\"Type\").get_group(\"Fruit\")\n",
        "print(df)"
      ],
      "execution_count": 9,
      "outputs": [
        {
          "output_type": "stream",
          "text": [
            "     Name  Frequency  Importance   Type\n",
            "0   Apple          7           5  Fruit\n",
            "1  Banana          3           6  Fruit\n",
            "2    Beef          5           2   Meal\n",
            "3  Kimchi          4           8   Meal\n",
            "\n",
            "     Name  Frequency  Importance   Type\n",
            "0   Apple          7           5  Fruit\n",
            "1  Banana          3           6  Fruit\n"
          ],
          "name": "stdout"
        }
      ]
    },
    {
      "cell_type": "markdown",
      "metadata": {
        "id": "js9z060RYnXG"
      },
      "source": [
        "**데이터 프레임의 그룹화 ⑤**"
      ]
    },
    {
      "cell_type": "code",
      "metadata": {
        "id": "1WbTCOHcYSVX",
        "outputId": "33caab62-8524-411a-83ae-91026fb62b8a",
        "colab": {
          "base_uri": "https://localhost:8080/",
          "height": 105
        }
      },
      "source": [
        "import pandas as pd\n",
        "\n",
        "df = pd.DataFrame([\n",
        "  ['Apple', 7, 5, 'Fruit'],\n",
        "  ['Banana', 3, 6, 'Fruit'],\n",
        "  ['Beef', 5, 2, 'Meal'],\n",
        "  ['Kimchi', 4, 8, 'Meal']],\n",
        "  columns=[\"Name\", \"Frequency\", \"Importance\", \"Type\"])\n",
        "\n",
        "df[\"Gap\"] = df.groupby(\"Type\")[\"Frequency\"].apply(lambda x: x - x.mean())\n",
        "print(df)"
      ],
      "execution_count": null,
      "outputs": [
        {
          "output_type": "stream",
          "text": [
            "     Name  Frequency  Importance   Type  Gap\n",
            "0   Apple          7           5  Fruit  2.0\n",
            "1  Banana          3           6  Fruit -2.0\n",
            "2    Beef          5           2   Meal  0.5\n",
            "3  Kimchi          4           8   Meal -0.5\n"
          ],
          "name": "stdout"
        }
      ]
    },
    {
      "cell_type": "markdown",
      "metadata": {
        "id": "kZA_fuA_ZD2r"
      },
      "source": [
        "**데이터 프레임의 다중화**"
      ]
    },
    {
      "cell_type": "code",
      "metadata": {
        "id": "9Rr1E0YIYwv2",
        "outputId": "bf1826f4-2c7d-46bd-c2a5-4f73708bda6f",
        "colab": {
          "base_uri": "https://localhost:8080/",
          "height": 161
        }
      },
      "source": [
        "import numpy as np\n",
        "import pandas as pd\n",
        "\n",
        "df = pd.DataFrame(\n",
        "  np.random.randint(1, 10, (4, 4)),\n",
        "  index=[['1차', '1차', '2차', '2차'], ['공격', '수비', '공격', '수비']],\n",
        "  columns=['1회', '2회', '3회', '4회']\n",
        ")\n",
        "\n",
        "print(df)\n",
        "print(df[[\"1회\", \"2회\"]].loc[\"2차\"])"
      ],
      "execution_count": 7,
      "outputs": [
        {
          "output_type": "stream",
          "text": [
            "       1회  2회  3회  4회\n",
            "1차 공격   9   1   4   4\n",
            "   수비   1   4   2   7\n",
            "2차 공격   3   2   4   5\n",
            "   수비   8   6   8   7\n",
            "    1회  2회\n",
            "공격   3   2\n",
            "수비   8   6\n"
          ],
          "name": "stdout"
        }
      ]
    },
    {
      "cell_type": "markdown",
      "metadata": {
        "id": "C2ApJAuvZWrM"
      },
      "source": [
        "**피벗 테이블의 기초**"
      ]
    },
    {
      "cell_type": "code",
      "metadata": {
        "id": "UHAMMdNIZL-0",
        "outputId": "d0a6fec6-df92-4eb2-f07b-7e834ec414dc",
        "colab": {
          "base_uri": "https://localhost:8080/",
          "height": 269
        }
      },
      "source": [
        "import numpy as np\n",
        "import pandas as pd\n",
        "\n",
        "df = pd.DataFrame([\n",
        "    ['Apple', 7, 5, 'Fruit'],\n",
        "    ['Banana', 3, 6, 'Fruit'],\n",
        "    ['Coconut', 2, 6, 'Fruit'],\n",
        "    ['Rice', 8, 2, 'Meal'],\n",
        "    ['Beef', 5, 2, 'Meal'],\n",
        "    ['Kimchi', 4, 8, 'Meal']],\n",
        "   columns=[\"Name\", \"Frequency\", \"Importance\", \"Type\"])\n",
        "\n",
        "print(df)\n",
        "print()\n",
        "df = df.pivot_table(\n",
        "    index=\"Importance\", columns=\"Type\", values=\"Frequency\",\n",
        "    aggfunc=np.max\n",
        ")\n",
        "print(df)"
      ],
      "execution_count": 8,
      "outputs": [
        {
          "output_type": "stream",
          "text": [
            "      Name  Frequency  Importance   Type\n",
            "0    Apple          7           5  Fruit\n",
            "1   Banana          3           6  Fruit\n",
            "2  Coconut          2           6  Fruit\n",
            "3     Rice          8           2   Meal\n",
            "4     Beef          5           2   Meal\n",
            "5   Kimchi          4           8   Meal\n",
            "\n",
            "Type        Fruit  Meal\n",
            "Importance             \n",
            "2             NaN   8.0\n",
            "5             7.0   NaN\n",
            "6             3.0   NaN\n",
            "8             NaN   4.0\n"
          ],
          "name": "stdout"
        }
      ]
    },
    {
      "cell_type": "code",
      "metadata": {
        "id": "0kKf4D6-DRt1"
      },
      "source": [
        ""
      ],
      "execution_count": null,
      "outputs": []
    }
  ]
}
