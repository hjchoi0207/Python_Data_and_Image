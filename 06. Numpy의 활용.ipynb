{
  "nbformat": 4,
  "nbformat_minor": 0,
  "metadata": {
    "colab": {
      "name": "Untitled1.ipynb",
      "provenance": [],
      "collapsed_sections": [],
      "authorship_tag": "ABX9TyP48W0zo9TJVk4fZSeP8FU6",
      "include_colab_link": true
    },
    "kernelspec": {
      "name": "python3",
      "display_name": "Python 3"
    }
  },
  "cells": [
    {
      "cell_type": "markdown",
      "metadata": {
        "id": "view-in-github",
        "colab_type": "text"
      },
      "source": [
        "<a href=\"https://colab.research.google.com/github/hjchoi0207/Python_Data_and_Image/blob/master/06.%20Numpy%EC%9D%98%20%ED%99%9C%EC%9A%A9.ipynb\" target=\"_parent\"><img src=\"https://colab.research.google.com/assets/colab-badge.svg\" alt=\"Open In Colab\"/></a>"
      ]
    },
    {
      "cell_type": "markdown",
      "metadata": {
        "id": "IqsLHiAc8ELO",
        "colab_type": "text"
      },
      "source": [
        "**파이썬 데이터 분석과 이미지 처리**   \n",
        "Numpy의 저장 및 불러오기 : save, load"
      ]
    },
    {
      "cell_type": "code",
      "metadata": {
        "id": "pdsQJa2s8ChZ",
        "colab_type": "code",
        "colab": {
          "base_uri": "https://localhost:8080/",
          "height": 35
        },
        "outputId": "67612102-b6b3-4b7b-8d91-495d6815217a"
      },
      "source": [
        "import numpy as np\n",
        "\n",
        "#save 함수와 load 함수로 단일 객체 저장 및 불러오기\n",
        "array = np.arange(0, 10)\n",
        "np.save('saved.npy', array)\n",
        "\n",
        "result = np.load('saved.npy')\n",
        "print(result)"
      ],
      "execution_count": 4,
      "outputs": [
        {
          "output_type": "stream",
          "text": [
            "[0 1 2 3 4 5 6 7 8 9]\n"
          ],
          "name": "stdout"
        }
      ]
    },
    {
      "cell_type": "code",
      "metadata": {
        "id": "-5mi3cBa89ud",
        "colab_type": "code",
        "colab": {
          "base_uri": "https://localhost:8080/",
          "height": 53
        },
        "outputId": "92fcd668-f420-4307-9c7f-3f65f837e8b4"
      },
      "source": [
        "# 복수 객체 저장 및 불러오기\n",
        "array1 = np.arange(0,10)\n",
        "array2 = np.arange(10,20)\n",
        "\n",
        "#np.save('saved.npy',(array1,array2))\n",
        "np.savez('saved.npz', arr1=array1, arr2=array2)\n",
        "data = np.load('saved.npz')\n",
        "res1 = data['arr1']    #이름 인덱스로 접근 가능\n",
        "res2 = data['arr2']\n",
        "print(res1)\n",
        "print(res2)"
      ],
      "execution_count": 11,
      "outputs": [
        {
          "output_type": "stream",
          "text": [
            "[0 1 2 3 4 5 6 7 8 9]\n",
            "[10 11 12 13 14 15 16 17 18 19]\n"
          ],
          "name": "stdout"
        }
      ]
    },
    {
      "cell_type": "markdown",
      "metadata": {
        "id": "Je9M-JXV-ilM",
        "colab_type": "text"
      },
      "source": [
        "**Numpy 원소의 정렬**   \n",
        "sort() 와 행기준 sort(axis = 0)"
      ]
    },
    {
      "cell_type": "code",
      "metadata": {
        "id": "F2GhjdVR9wqE",
        "colab_type": "code",
        "colab": {
          "base_uri": "https://localhost:8080/",
          "height": 53
        },
        "outputId": "d1e895ec-964a-46f1-a9c8-fdbc842db5d9"
      },
      "source": [
        "array = np.array([4,2,1,8,9])\n",
        "array.sort()\n",
        "print(array)\n",
        "print(array[::-1])"
      ],
      "execution_count": 13,
      "outputs": [
        {
          "output_type": "stream",
          "text": [
            "[1 2 4 8 9]\n",
            "[9 8 4 2 1]\n"
          ],
          "name": "stdout"
        }
      ]
    },
    {
      "cell_type": "code",
      "metadata": {
        "id": "-f8pkUxD9PI2",
        "colab_type": "code",
        "colab": {
          "base_uri": "https://localhost:8080/",
          "height": 89
        },
        "outputId": "10ff3aab-7f91-4764-cb2a-f36aa4584412"
      },
      "source": [
        "# 각 열을 기준으로 정렬\n",
        "array = np.array([[8,2,1,9,5],[3,7,2,1,4]]) #2차원 배열\n",
        "print(array)\n",
        "array.sort(axis = 0)\n",
        "print(array)"
      ],
      "execution_count": 17,
      "outputs": [
        {
          "output_type": "stream",
          "text": [
            "[[8 2 1 9 5]\n",
            " [3 7 2 1 4]]\n",
            "[[3 2 1 1 4]\n",
            " [8 7 2 9 5]]\n"
          ],
          "name": "stdout"
        }
      ]
    },
    {
      "cell_type": "code",
      "metadata": {
        "id": "UiZnjfDI_OhY",
        "colab_type": "code",
        "colab": {
          "base_uri": "https://localhost:8080/",
          "height": 35
        },
        "outputId": "1438689f-387d-4e9f-8400-0d0b627c3dac"
      },
      "source": [
        "# 균일한 간격으로 데이터 생성\n",
        "array = np.linspace(0, 10, 5)\n",
        "print(array)"
      ],
      "execution_count": 19,
      "outputs": [
        {
          "output_type": "stream",
          "text": [
            "[ 0.   2.5  5.   7.5 10. ]\n"
          ],
          "name": "stdout"
        }
      ]
    },
    {
      "cell_type": "markdown",
      "metadata": {
        "id": "w_jwpoVFBSCo",
        "colab_type": "text"
      },
      "source": [
        "**np.random.randint() : 랜덤값 생성**   \n",
        "**np.random.seed() : 시드 고정**"
      ]
    },
    {
      "cell_type": "code",
      "metadata": {
        "id": "Scxtuolb_ooI",
        "colab_type": "code",
        "colab": {
          "base_uri": "https://localhost:8080/",
          "height": 53
        },
        "outputId": "decff620-37aa-433b-94c1-5e77308b2f53"
      },
      "source": [
        "# 난수의 재연 (항상 동일)\n",
        "np.random.seed(7) # 시드 값을 동일하게 하면 항상 같은 난수 발생\n",
        "print(np.random.randint(0,10,(2,3)))"
      ],
      "execution_count": 23,
      "outputs": [
        {
          "output_type": "stream",
          "text": [
            "[[4 9 6]\n",
            " [3 3 7]]\n"
          ],
          "name": "stdout"
        }
      ]
    },
    {
      "cell_type": "markdown",
      "metadata": {
        "id": "nf2IGJRcAqTW",
        "colab_type": "text"
      },
      "source": [
        "**copy() : 함수를 이용한 값에의한 참조**"
      ]
    },
    {
      "cell_type": "code",
      "metadata": {
        "id": "SIlRX8Bu_7C3",
        "colab_type": "code",
        "colab": {
          "base_uri": "https://localhost:8080/",
          "height": 35
        },
        "outputId": "4a9d3dcb-5ef9-40f6-dd87-fec972656cdc"
      },
      "source": [
        "# 배열 객체 복사\n",
        "array2 = array1\n",
        "array2[0] = 100\n",
        "print(array1)   # array2 값을 변경하면  array1 값도 바뀐다."
      ],
      "execution_count": 25,
      "outputs": [
        {
          "output_type": "stream",
          "text": [
            "[100   1   2   3   4   5   6   7   8   9]\n"
          ],
          "name": "stdout"
        }
      ]
    },
    {
      "cell_type": "code",
      "metadata": {
        "id": "DMkTMw_RAUrQ",
        "colab_type": "code",
        "colab": {
          "base_uri": "https://localhost:8080/",
          "height": 53
        },
        "outputId": "5b44b9c3-a3af-4e65-c041-3b7f64c9a6d6"
      },
      "source": [
        "array1 = np.arange(0,10)\n",
        "array2 = array1.copy()\n",
        "array2[0] = 100\n",
        "print(array1)\n",
        "print(array2)"
      ],
      "execution_count": 26,
      "outputs": [
        {
          "output_type": "stream",
          "text": [
            "[0 1 2 3 4 5 6 7 8 9]\n",
            "[100   1   2   3   4   5   6   7   8   9]\n"
          ],
          "name": "stdout"
        }
      ]
    },
    {
      "cell_type": "markdown",
      "metadata": {
        "id": "EgyQ9P8vA5JM",
        "colab_type": "text"
      },
      "source": [
        "**unique(array) : 중복원소 제거**"
      ]
    },
    {
      "cell_type": "code",
      "metadata": {
        "id": "LRMM4AQ9AlIf",
        "colab_type": "code",
        "colab": {
          "base_uri": "https://localhost:8080/",
          "height": 35
        },
        "outputId": "36e5b664-b526-41fb-8b6e-1d8706a8c954"
      },
      "source": [
        "array = np.array([1,2,2,3,4,4,4,5,5])\n",
        "print(np.unique(array))"
      ],
      "execution_count": 27,
      "outputs": [
        {
          "output_type": "stream",
          "text": [
            "[1 2 3 4 5]\n"
          ],
          "name": "stdout"
        }
      ]
    },
    {
      "cell_type": "code",
      "metadata": {
        "id": "fYq56CXRBEfx",
        "colab_type": "code",
        "colab": {}
      },
      "source": [
        ""
      ],
      "execution_count": null,
      "outputs": []
    }
  ]
}