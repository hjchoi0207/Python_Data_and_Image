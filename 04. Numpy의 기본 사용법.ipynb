{
  "nbformat": 4,
  "nbformat_minor": 0,
  "metadata": {
    "colab": {
      "name": "Untitled1.ipynb",
      "provenance": [],
      "collapsed_sections": [],
      "authorship_tag": "ABX9TyNaTHuw5XuLpvEi4YVtGK17",
      "include_colab_link": true
    },
    "kernelspec": {
      "name": "python3",
      "display_name": "Python 3"
    }
  },
  "cells": [
    {
      "cell_type": "markdown",
      "metadata": {
        "id": "view-in-github",
        "colab_type": "text"
      },
      "source": [
        "<a href=\"https://colab.research.google.com/github/hjchoi0207/Python_Data_and_Image/blob/master/04.%20Numpy%EC%9D%98%20%EA%B8%B0%EB%B3%B8%20%EC%82%AC%EC%9A%A9%EB%B2%95.ipynb\" target=\"_parent\"><img src=\"https://colab.research.google.com/assets/colab-badge.svg\" alt=\"Open In Colab\"/></a>"
      ]
    },
    {
      "cell_type": "markdown",
      "metadata": {
        "id": "JoWxEMHR1eQx",
        "colab_type": "text"
      },
      "source": [
        "Numpy를 이용해 배열을 다양한 방법으로 활용할 수 있다.\n",
        "\n",
        "1. 배열 초기화 및 타입 선언\n",
        "2. 배열 가로로 합치기\n",
        "3. 배열 형태 바꾸기\n",
        "4. 배열 세로로 합치기\n",
        "5. 배열 나누기"
      ]
    },
    {
      "cell_type": "code",
      "metadata": {
        "id": "-2hahyFMu1Q0",
        "colab_type": "code",
        "colab": {}
      },
      "source": [
        "import numpy as np"
      ],
      "execution_count": 19,
      "outputs": []
    },
    {
      "cell_type": "code",
      "metadata": {
        "id": "_TShl2EVu3Dn",
        "colab_type": "code",
        "colab": {}
      },
      "source": [
        "list_data = [1,2,3]"
      ],
      "execution_count": 2,
      "outputs": []
    },
    {
      "cell_type": "code",
      "metadata": {
        "id": "WU8YyF5tu5l1",
        "colab_type": "code",
        "colab": {}
      },
      "source": [
        "array = np.array(list_data) #numpy화 해줌으로써 리스트보다 다양한 함수들을 호출할 수 있다."
      ],
      "execution_count": 3,
      "outputs": []
    },
    {
      "cell_type": "code",
      "metadata": {
        "id": "FWgTIfPrvBv1",
        "colab_type": "code",
        "colab": {
          "base_uri": "https://localhost:8080/",
          "height": 35
        },
        "outputId": "59c6a9fe-c78b-41c3-bf2b-9b6be1964d6e"
      },
      "source": [
        "array1 = np.arange(4) # 0부터 4-1 까지 만들기\n",
        "print(array1)"
      ],
      "execution_count": 8,
      "outputs": [
        {
          "output_type": "stream",
          "text": [
            "[0 1 2 3]\n"
          ],
          "name": "stdout"
        }
      ]
    },
    {
      "cell_type": "code",
      "metadata": {
        "id": "GsIDaLu2vym4",
        "colab_type": "code",
        "colab": {
          "base_uri": "https://localhost:8080/",
          "height": 89
        },
        "outputId": "c917fc59-b504-4a67-8249-2d521ce2baf2"
      },
      "source": [
        "array2 = np.zeros((4,4), dtype=float)\n",
        "print(array2)"
      ],
      "execution_count": 9,
      "outputs": [
        {
          "output_type": "stream",
          "text": [
            "[[0. 0. 0. 0.]\n",
            " [0. 0. 0. 0.]\n",
            " [0. 0. 0. 0.]\n",
            " [0. 0. 0. 0.]]\n"
          ],
          "name": "stdout"
        }
      ]
    },
    {
      "cell_type": "code",
      "metadata": {
        "id": "jFgFbidRv6qd",
        "colab_type": "code",
        "colab": {
          "base_uri": "https://localhost:8080/",
          "height": 71
        },
        "outputId": "f1563cca-407f-44fc-e830-a10a835cff69"
      },
      "source": [
        "array3 = np.ones((3,3), dtype = str)\n",
        "print(array3)"
      ],
      "execution_count": 10,
      "outputs": [
        {
          "output_type": "stream",
          "text": [
            "[['1' '1' '1']\n",
            " ['1' '1' '1']\n",
            " ['1' '1' '1']]\n"
          ],
          "name": "stdout"
        }
      ]
    },
    {
      "cell_type": "code",
      "metadata": {
        "id": "jR4-qt1QwCw2",
        "colab_type": "code",
        "colab": {
          "base_uri": "https://localhost:8080/",
          "height": 71
        },
        "outputId": "062814f2-4e4f-4976-e51e-e7e7d7c28e62"
      },
      "source": [
        "array4 = np.random.randint(0,10,(3,3)) # 3x3배열에 0~9사이의 정수를 채워라\n",
        "print(array4) "
      ],
      "execution_count": 11,
      "outputs": [
        {
          "output_type": "stream",
          "text": [
            "[[7 1 9]\n",
            " [1 7 5]\n",
            " [0 4 8]]\n"
          ],
          "name": "stdout"
        }
      ]
    },
    {
      "cell_type": "code",
      "metadata": {
        "id": "Uu5f2et1wMxO",
        "colab_type": "code",
        "colab": {
          "base_uri": "https://localhost:8080/",
          "height": 71
        },
        "outputId": "01137d7e-11e1-43e3-b82a-8c19579b2b15"
      },
      "source": [
        "# 평균이 0이고 표준편차가 1인 표준 정규를 띄는 배열 생성\n",
        "array5 = np.random.normal(0,1,(3,3))\n",
        "array5"
      ],
      "execution_count": 12,
      "outputs": [
        {
          "output_type": "execute_result",
          "data": {
            "text/plain": [
              "array([[-0.83016236,  0.37302925,  0.28529095],\n",
              "       [-0.83202273,  0.79551957, -0.42894083],\n",
              "       [-0.58509304,  0.63426795,  0.14524806]])"
            ]
          },
          "metadata": {
            "tags": []
          },
          "execution_count": 12
        }
      ]
    },
    {
      "cell_type": "markdown",
      "metadata": {
        "id": "9iT1n7zdyN9a",
        "colab_type": "text"
      },
      "source": [
        "**Numpy 배열 합치기**"
      ]
    },
    {
      "cell_type": "code",
      "metadata": {
        "id": "bdWLt_ptyDY4",
        "colab_type": "code",
        "colab": {}
      },
      "source": [
        "array1 = np.array([1,2,3])\n",
        "array2 = np.array([4,5,6])\n",
        "array3 = np.concatenate([array1, array2]) # 배열을 합치는 concatenate 함수"
      ],
      "execution_count": 13,
      "outputs": []
    },
    {
      "cell_type": "code",
      "metadata": {
        "id": "CPShrPYRyqDD",
        "colab_type": "code",
        "colab": {
          "base_uri": "https://localhost:8080/",
          "height": 35
        },
        "outputId": "3f053963-3881-456a-a94a-07c832676a74"
      },
      "source": [
        "print(array3.shape) # 몇 개의 데이터가 담겨있는지 확인"
      ],
      "execution_count": 14,
      "outputs": [
        {
          "output_type": "stream",
          "text": [
            "(6,)\n"
          ],
          "name": "stdout"
        }
      ]
    },
    {
      "cell_type": "code",
      "metadata": {
        "id": "sJXA5rT7yuBn",
        "colab_type": "code",
        "colab": {
          "base_uri": "https://localhost:8080/",
          "height": 35
        },
        "outputId": "63b6bfe7-54fd-4b9d-c573-53223c3e846b"
      },
      "source": [
        "print(array3)"
      ],
      "execution_count": 15,
      "outputs": [
        {
          "output_type": "stream",
          "text": [
            "[1 2 3 4 5 6]\n"
          ],
          "name": "stdout"
        }
      ]
    },
    {
      "cell_type": "markdown",
      "metadata": {
        "id": "2J2f_3Lsy3Ju",
        "colab_type": "text"
      },
      "source": [
        "**Numpy 배열 형태 바꾸기 및 세로로 합치기**"
      ]
    },
    {
      "cell_type": "code",
      "metadata": {
        "id": "o-ZmRv07y7js",
        "colab_type": "code",
        "colab": {
          "base_uri": "https://localhost:8080/",
          "height": 53
        },
        "outputId": "9c304589-caf9-4511-dcc1-79d300f3fd19"
      },
      "source": [
        "array3.reshape((2,3))"
      ],
      "execution_count": 16,
      "outputs": [
        {
          "output_type": "execute_result",
          "data": {
            "text/plain": [
              "array([[1, 2, 3],\n",
              "       [4, 5, 6]])"
            ]
          },
          "metadata": {
            "tags": []
          },
          "execution_count": 16
        }
      ]
    },
    {
      "cell_type": "code",
      "metadata": {
        "id": "l0jOdZSizVJ2",
        "colab_type": "code",
        "colab": {
          "base_uri": "https://localhost:8080/",
          "height": 71
        },
        "outputId": "428d8c74-f344-4d18-a139-a0876290965f"
      },
      "source": [
        "array1 = np.arange(4).reshape(1,4)\n",
        "array2 = np.arange(8).reshape(2,4)\n",
        "print(array1)\n",
        "print(array2)"
      ],
      "execution_count": 21,
      "outputs": [
        {
          "output_type": "stream",
          "text": [
            "[[0 1 2 3]]\n",
            "[[0 1 2 3]\n",
            " [4 5 6 7]]\n"
          ],
          "name": "stdout"
        }
      ]
    },
    {
      "cell_type": "code",
      "metadata": {
        "id": "O46b8WYnzolA",
        "colab_type": "code",
        "colab": {
          "base_uri": "https://localhost:8080/",
          "height": 71
        },
        "outputId": "0cc4cf54-b999-4c0e-fe9f-fff019e2b7e3"
      },
      "source": [
        "array3 = np.concatenate([array1, array2], axis = 0) #세로로 합치기 위한 옵션 axis = 0\n",
        "array3"
      ],
      "execution_count": 22,
      "outputs": [
        {
          "output_type": "execute_result",
          "data": {
            "text/plain": [
              "array([[0, 1, 2, 3],\n",
              "       [0, 1, 2, 3],\n",
              "       [4, 5, 6, 7]])"
            ]
          },
          "metadata": {
            "tags": []
          },
          "execution_count": 22
        }
      ]
    },
    {
      "cell_type": "markdown",
      "metadata": {
        "id": "EVtp1LT00LZq",
        "colab_type": "text"
      },
      "source": [
        "**Numpy 배열 나누기**"
      ]
    },
    {
      "cell_type": "code",
      "metadata": {
        "id": "LIpORny5z-8I",
        "colab_type": "code",
        "colab": {
          "base_uri": "https://localhost:8080/",
          "height": 89
        },
        "outputId": "3bed8a66-ecce-4daa-c9ac-bb0a7a5c8e57"
      },
      "source": [
        "array = np.arange(8).reshape(2,4) #0~7까지 2x4 배열에 생성\n",
        "print(array)\n",
        "left, right = np.split(array, [2], axis = 1) # split 함수를 이용하여 [0,1,2,3]열 중 2열을 기준으로 좌 우로 나눈다\n",
        "print(left.shape)\n",
        "print(right.shape)"
      ],
      "execution_count": 25,
      "outputs": [
        {
          "output_type": "stream",
          "text": [
            "[[0 1 2 3]\n",
            " [4 5 6 7]]\n",
            "(2, 2)\n",
            "(2, 2)\n"
          ],
          "name": "stdout"
        }
      ]
    },
    {
      "cell_type": "code",
      "metadata": {
        "id": "yd8Ge3tg0z0B",
        "colab_type": "code",
        "colab": {
          "base_uri": "https://localhost:8080/",
          "height": 89
        },
        "outputId": "fb9c281c-040c-4e71-fd48-1ed2688df988"
      },
      "source": [
        "print(left)\n",
        "print(right)"
      ],
      "execution_count": 26,
      "outputs": [
        {
          "output_type": "stream",
          "text": [
            "[[0 1]\n",
            " [4 5]]\n",
            "[[2 3]\n",
            " [6 7]]\n"
          ],
          "name": "stdout"
        }
      ]
    },
    {
      "cell_type": "code",
      "metadata": {
        "id": "EZwa7mNa1CNP",
        "colab_type": "code",
        "colab": {}
      },
      "source": [
        ""
      ],
      "execution_count": null,
      "outputs": []
    }
  ]
}