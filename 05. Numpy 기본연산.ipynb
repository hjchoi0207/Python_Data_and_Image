{
  "nbformat": 4,
  "nbformat_minor": 0,
  "metadata": {
    "colab": {
      "name": "Numpy의 기본 연산.ipynb",
      "provenance": [],
      "collapsed_sections": [],
      "authorship_tag": "ABX9TyN8YkjFv2J1gg9X4bBgwwlD",
      "include_colab_link": true
    },
    "kernelspec": {
      "name": "python3",
      "display_name": "Python 3"
    }
  },
  "cells": [
    {
      "cell_type": "markdown",
      "metadata": {
        "id": "view-in-github",
        "colab_type": "text"
      },
      "source": [
        "<a href=\"https://colab.research.google.com/github/hjchoi0207/Python_Data_and_Image/blob/master/05.%20Numpy%20%EA%B8%B0%EB%B3%B8%EC%97%B0%EC%82%B0.ipynb\" target=\"_parent\"><img src=\"https://colab.research.google.com/assets/colab-badge.svg\" alt=\"Open In Colab\"/></a>"
      ]
    },
    {
      "cell_type": "markdown",
      "metadata": {
        "id": "cj3-f9Gy8RlY",
        "colab_type": "text"
      },
      "source": [
        "Numpy의 기본 연산"
      ]
    },
    {
      "cell_type": "markdown",
      "metadata": {
        "id": "i9ba2mqy83fH",
        "colab_type": "text"
      },
      "source": [
        "**Numpy 스칼라연산**"
      ]
    },
    {
      "cell_type": "code",
      "metadata": {
        "id": "USlNmdwl8JZk",
        "colab_type": "code",
        "colab": {
          "base_uri": "https://localhost:8080/",
          "height": 53
        },
        "outputId": "6a32f5bf-bfe9-4791-84c4-cbcf0524ead8"
      },
      "source": [
        "import numpy as np\n",
        "array = np.random.randint(1,10, size = 4).reshape(2,2) # 1부터 9 사이의 정수 4개를 생성하고 형태변환하라.\n",
        "print(array)"
      ],
      "execution_count": 3,
      "outputs": [
        {
          "output_type": "stream",
          "text": [
            "[[8 1]\n",
            " [3 9]]\n"
          ],
          "name": "stdout"
        }
      ]
    },
    {
      "cell_type": "code",
      "metadata": {
        "id": "tTw7-MeI8QWr",
        "colab_type": "code",
        "colab": {
          "base_uri": "https://localhost:8080/",
          "height": 53
        },
        "outputId": "0c726a6d-a71c-4db6-dada-8e148e3f2fba"
      },
      "source": [
        "res_array = array * 10\n",
        "res_array"
      ],
      "execution_count": 4,
      "outputs": [
        {
          "output_type": "execute_result",
          "data": {
            "text/plain": [
              "array([[80, 10],\n",
              "       [30, 90]])"
            ]
          },
          "metadata": {
            "tags": []
          },
          "execution_count": 4
        }
      ]
    },
    {
      "cell_type": "markdown",
      "metadata": {
        "id": "y0SsehOL88RH",
        "colab_type": "text"
      },
      "source": [
        "**서로 다른 형태의 Numpy 연산** <hr/>\n",
        "브로드캐스트 : 형태가 다른 배열을 연산할 수 있도록 배열 형태를 동적으로 변환"
      ]
    },
    {
      "cell_type": "code",
      "metadata": {
        "id": "lnFYjwlC80Ns",
        "colab_type": "code",
        "colab": {
          "base_uri": "https://localhost:8080/",
          "height": 107
        },
        "outputId": "cd264c54-84f4-471a-dad7-a4f3783aca53"
      },
      "source": [
        "import numpy as np\n",
        "\n",
        "array1 = np.arange(4).reshape(2,2) # 0 부터 3 까지의 정수를 생성하여 2x2 배열 형태로 형변환 하라\n",
        "array2 = np.arange(2) # 1 x 2\n",
        "# array2 = np.arange(2).reshape(2,1)  # 2 x 1 \n",
        "\n",
        "print(array1)\n",
        "print(array2)\n",
        "\n",
        "array3 = array1 + array2 #array2의 정수 배수는 array1에 부합되기 때문에 연산가능하다.\n",
        "print(array3)"
      ],
      "execution_count": 9,
      "outputs": [
        {
          "output_type": "stream",
          "text": [
            "[[0 1]\n",
            " [2 3]]\n",
            "[0 1]\n",
            "[[0 2]\n",
            " [2 4]]\n"
          ],
          "name": "stdout"
        }
      ]
    },
    {
      "cell_type": "code",
      "metadata": {
        "id": "u6H9quML9cn8",
        "colab_type": "code",
        "colab": {
          "base_uri": "https://localhost:8080/",
          "height": 233
        },
        "outputId": "b65e0749-d89e-4dbb-f949-721ab8b99802"
      },
      "source": [
        "import numpy as np\n",
        "\n",
        "array1 = np.arange(0,8).reshape(2,4)\n",
        "array2 = np.arange(0,8).reshape(2,4)\n",
        "array3 = np.concatenate([array1, array2], axis = 0)\n",
        "array4 = np.arange(0,4).reshape(4,1)\n",
        "print(array3)\n",
        "print(array4)\n",
        "print(array3 + array4)"
      ],
      "execution_count": 17,
      "outputs": [
        {
          "output_type": "stream",
          "text": [
            "[[0 1 2 3]\n",
            " [4 5 6 7]\n",
            " [0 1 2 3]\n",
            " [4 5 6 7]]\n",
            "[[0]\n",
            " [1]\n",
            " [2]\n",
            " [3]]\n",
            "[[ 0  1  2  3]\n",
            " [ 5  6  7  8]\n",
            " [ 2  3  4  5]\n",
            " [ 7  8  9 10]]\n"
          ],
          "name": "stdout"
        }
      ]
    },
    {
      "cell_type": "markdown",
      "metadata": {
        "id": "BPO_h2uu_PPZ",
        "colab_type": "text"
      },
      "source": [
        "**Numpy의 마스킹 연산 - 각 원소에 대해 체크하는 것**"
      ]
    },
    {
      "cell_type": "code",
      "metadata": {
        "id": "e6DQjpil-vpL",
        "colab_type": "code",
        "colab": {
          "base_uri": "https://localhost:8080/",
          "height": 233
        },
        "outputId": "629993ed-cead-4059-92db-a856b6b84246"
      },
      "source": [
        "import numpy as np\n",
        "\n",
        "array1 = np.arange(16).reshape(4,4)\n",
        "print(array1)\n",
        "\n",
        "array2 = array1 < 10  #마스킹 연산 수행\n",
        "print(array2)\n",
        "array1[array2] = 100  # True 인 원소들에 대해서만 연산 수행\n",
        "print(array1)"
      ],
      "execution_count": 25,
      "outputs": [
        {
          "output_type": "stream",
          "text": [
            "[[ 0  1  2  3]\n",
            " [ 4  5  6  7]\n",
            " [ 8  9 10 11]\n",
            " [12 13 14 15]]\n",
            "[[ True  True  True  True]\n",
            " [ True  True  True  True]\n",
            " [ True  True False False]\n",
            " [False False False False]]\n",
            "[[100 100 100 100]\n",
            " [100 100 100 100]\n",
            " [100 100  10  11]\n",
            " [ 12  13  14  15]]\n"
          ],
          "name": "stdout"
        }
      ]
    },
    {
      "cell_type": "markdown",
      "metadata": {
        "id": "lENXoiwsAlit",
        "colab_type": "text"
      },
      "source": [
        "**Numpy의 집계함수**"
      ]
    },
    {
      "cell_type": "code",
      "metadata": {
        "id": "-2UsQ1L2_jgS",
        "colab_type": "code",
        "colab": {
          "base_uri": "https://localhost:8080/",
          "height": 179
        },
        "outputId": "f29302ab-4535-422c-f33d-5afff2882472"
      },
      "source": [
        "import numpy as np\n",
        "\n",
        "array = np.arange(16).reshape(4,4)\n",
        "print(array)\n",
        "print(\"csum : \", np.sum(array, axis = 0))  # 열의 원소를 더한 값\n",
        "print(\"max : \", np.max(array))\n",
        "print(\"min : \", np.min(array))\n",
        "print(\"sum : \", np.sum(array))\n",
        "print(\"mean : \", np.mean(array))"
      ],
      "execution_count": 29,
      "outputs": [
        {
          "output_type": "stream",
          "text": [
            "[[ 0  1  2  3]\n",
            " [ 4  5  6  7]\n",
            " [ 8  9 10 11]\n",
            " [12 13 14 15]]\n",
            "csum :  [24 28 32 36]\n",
            "max :  15\n",
            "min :  0\n",
            "sum :  120\n",
            "mean :  7.5\n"
          ],
          "name": "stdout"
        }
      ]
    },
    {
      "cell_type": "code",
      "metadata": {
        "id": "DXT9rHoXAySs",
        "colab_type": "code",
        "colab": {}
      },
      "source": [
        ""
      ],
      "execution_count": null,
      "outputs": []
    }
  ]
}